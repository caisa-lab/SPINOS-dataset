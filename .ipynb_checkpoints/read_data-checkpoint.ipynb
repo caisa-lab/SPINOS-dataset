{
 "cells": [
  {
   "cell_type": "code",
   "execution_count": 1,
   "id": "b123e8f3",
   "metadata": {},
   "outputs": [],
   "source": [
    "# !pip install pandas==1.3.4"
   ]
  },
  {
   "cell_type": "code",
   "execution_count": 10,
   "id": "8b7153c7",
   "metadata": {},
   "outputs": [],
   "source": [
    "import pandas as pd\n",
    "\n",
    "data = pd.read_pickle('SPINOS_dataset.pkl')"
   ]
  },
  {
   "cell_type": "code",
   "execution_count": 11,
   "id": "4481b6ea",
   "metadata": {},
   "outputs": [
    {
     "data": {
      "text/plain": [
       "Index(['topic', 'users', 'annotation', 'exp_annotation', 's_against',\n",
       "       'against', 'stance_not_inferrable', 'favor', 's_favor', 'is_explicit',\n",
       "       'is_sarcastic', 'timestamp', 'toplevel_id', 'parent_ids',\n",
       "       'platform_specific'],\n",
       "      dtype='object')"
      ]
     },
     "execution_count": 11,
     "metadata": {},
     "output_type": "execute_result"
    }
   ],
   "source": [
    "data.columns"
   ]
  },
  {
   "cell_type": "code",
   "execution_count": 9,
   "id": "1529eef6",
   "metadata": {},
   "outputs": [
    {
     "data": {
      "text/html": [
       "<div>\n",
       "<style scoped>\n",
       "    .dataframe tbody tr th:only-of-type {\n",
       "        vertical-align: middle;\n",
       "    }\n",
       "\n",
       "    .dataframe tbody tr th {\n",
       "        vertical-align: top;\n",
       "    }\n",
       "\n",
       "    .dataframe thead th {\n",
       "        text-align: right;\n",
       "    }\n",
       "</style>\n",
       "<table border=\"1\" class=\"dataframe\">\n",
       "  <thead>\n",
       "    <tr style=\"text-align: right;\">\n",
       "      <th></th>\n",
       "      <th>topic</th>\n",
       "      <th>users</th>\n",
       "      <th>annotation</th>\n",
       "      <th>exp_annotation</th>\n",
       "      <th>s_against</th>\n",
       "      <th>against</th>\n",
       "      <th>stance_not_inferrable</th>\n",
       "      <th>favor</th>\n",
       "      <th>s_favor</th>\n",
       "      <th>is_explicit</th>\n",
       "      <th>is_sarcastic</th>\n",
       "      <th>timestamp</th>\n",
       "      <th>toplevel_id</th>\n",
       "      <th>parent_ids</th>\n",
       "      <th>platform_specific</th>\n",
       "    </tr>\n",
       "  </thead>\n",
       "  <tbody>\n",
       "    <tr>\n",
       "      <th>fqvresp</th>\n",
       "      <td>abortion</td>\n",
       "      <td>user_119</td>\n",
       "      <td>stance_not_inferrable</td>\n",
       "      <td></td>\n",
       "      <td>0</td>\n",
       "      <td>0</td>\n",
       "      <td>3</td>\n",
       "      <td>0</td>\n",
       "      <td>0</td>\n",
       "      <td></td>\n",
       "      <td></td>\n",
       "      <td>2020-05-17 04:44:51</td>\n",
       "      <td>gl684o</td>\n",
       "      <td>[fqvnmnx, gl684o]</td>\n",
       "      <td>{'awards_': 0, 'controversiality': 0, 'score':...</td>\n",
       "    </tr>\n",
       "    <tr>\n",
       "      <th>fuxe17g</th>\n",
       "      <td>feminism</td>\n",
       "      <td>user_333</td>\n",
       "      <td>stance_not_inferrable</td>\n",
       "      <td></td>\n",
       "      <td>0</td>\n",
       "      <td>0</td>\n",
       "      <td>3</td>\n",
       "      <td>0</td>\n",
       "      <td>0</td>\n",
       "      <td></td>\n",
       "      <td></td>\n",
       "      <td>2020-06-15 20:25:36</td>\n",
       "      <td>h9ga5h</td>\n",
       "      <td>[fuxcvnx, fuxaq6w, fuwmd77, h9ga5h]</td>\n",
       "      <td>{'awards_': 0, 'controversiality': 0, 'score':...</td>\n",
       "    </tr>\n",
       "    <tr>\n",
       "      <th>ftj1ds6</th>\n",
       "      <td>abortion</td>\n",
       "      <td>user_221</td>\n",
       "      <td>favor</td>\n",
       "      <td></td>\n",
       "      <td>0</td>\n",
       "      <td>0</td>\n",
       "      <td>1</td>\n",
       "      <td>2</td>\n",
       "      <td>0</td>\n",
       "      <td>No</td>\n",
       "      <td>No</td>\n",
       "      <td>2020-06-10 01:11:05</td>\n",
       "      <td>gzwbf4</td>\n",
       "      <td>[ftj07o2, ftiyse4, ftiwnm6, gzwbf4]</td>\n",
       "      <td>{'awards_': 0, 'controversiality': 0, 'score':...</td>\n",
       "    </tr>\n",
       "    <tr>\n",
       "      <th>fqth6zq</th>\n",
       "      <td>abortion</td>\n",
       "      <td>user_189</td>\n",
       "      <td>undecided</td>\n",
       "      <td></td>\n",
       "      <td>0</td>\n",
       "      <td>1</td>\n",
       "      <td>1</td>\n",
       "      <td>1</td>\n",
       "      <td>0</td>\n",
       "      <td></td>\n",
       "      <td></td>\n",
       "      <td>2020-05-16 16:22:06</td>\n",
       "      <td>gkuh1z</td>\n",
       "      <td>[fqtg8ys, gkuh1z]</td>\n",
       "      <td>{'awards_': 0, 'controversiality': 0, 'score':...</td>\n",
       "    </tr>\n",
       "    <tr>\n",
       "      <th>fee3uhh</th>\n",
       "      <td>brexit</td>\n",
       "      <td>user_372</td>\n",
       "      <td>stance_not_inferrable</td>\n",
       "      <td></td>\n",
       "      <td>0</td>\n",
       "      <td>0</td>\n",
       "      <td>3</td>\n",
       "      <td>0</td>\n",
       "      <td>0</td>\n",
       "      <td></td>\n",
       "      <td></td>\n",
       "      <td>2020-01-14 19:17:15</td>\n",
       "      <td>eohud5</td>\n",
       "      <td>[fee3fbc, fedzzvv, fedzvu8, fedykel, fedqbp5, ...</td>\n",
       "      <td>{'awards_': 0, 'controversiality': 0, 'score':...</td>\n",
       "    </tr>\n",
       "  </tbody>\n",
       "</table>\n",
       "</div>"
      ],
      "text/plain": [
       "            topic     users             annotation exp_annotation  s_against  \\\n",
       "fqvresp  abortion  user_119  stance_not_inferrable                         0   \n",
       "fuxe17g  feminism  user_333  stance_not_inferrable                         0   \n",
       "ftj1ds6  abortion  user_221                  favor                         0   \n",
       "fqth6zq  abortion  user_189              undecided                         0   \n",
       "fee3uhh    brexit  user_372  stance_not_inferrable                         0   \n",
       "\n",
       "         against  stance_not_inferrable  favor  s_favor is_explicit  \\\n",
       "fqvresp        0                      3      0        0               \n",
       "fuxe17g        0                      3      0        0               \n",
       "ftj1ds6        0                      1      2        0          No   \n",
       "fqth6zq        1                      1      1        0               \n",
       "fee3uhh        0                      3      0        0               \n",
       "\n",
       "        is_sarcastic           timestamp toplevel_id  \\\n",
       "fqvresp              2020-05-17 04:44:51      gl684o   \n",
       "fuxe17g              2020-06-15 20:25:36      h9ga5h   \n",
       "ftj1ds6           No 2020-06-10 01:11:05      gzwbf4   \n",
       "fqth6zq              2020-05-16 16:22:06      gkuh1z   \n",
       "fee3uhh              2020-01-14 19:17:15      eohud5   \n",
       "\n",
       "                                                parent_ids  \\\n",
       "fqvresp                                  [fqvnmnx, gl684o]   \n",
       "fuxe17g                [fuxcvnx, fuxaq6w, fuwmd77, h9ga5h]   \n",
       "ftj1ds6                [ftj07o2, ftiyse4, ftiwnm6, gzwbf4]   \n",
       "fqth6zq                                  [fqtg8ys, gkuh1z]   \n",
       "fee3uhh  [fee3fbc, fedzzvv, fedzvu8, fedykel, fedqbp5, ...   \n",
       "\n",
       "                                         platform_specific  \n",
       "fqvresp  {'awards_': 0, 'controversiality': 0, 'score':...  \n",
       "fuxe17g  {'awards_': 0, 'controversiality': 0, 'score':...  \n",
       "ftj1ds6  {'awards_': 0, 'controversiality': 0, 'score':...  \n",
       "fqth6zq  {'awards_': 0, 'controversiality': 0, 'score':...  \n",
       "fee3uhh  {'awards_': 0, 'controversiality': 0, 'score':...  "
      ]
     },
     "execution_count": 9,
     "metadata": {},
     "output_type": "execute_result"
    }
   ],
   "source": [
    "data.head(5)"
   ]
  },
  {
   "cell_type": "code",
   "execution_count": 5,
   "id": "9394fe7c",
   "metadata": {},
   "outputs": [
    {
     "name": "stdout",
     "output_type": "stream",
     "text": [
      "Number of total annotated posts: 3526\n",
      "Number of total annotated users: 638\n"
     ]
    }
   ],
   "source": [
    "print(f\"Number of total annotated posts: {len(data)}\")\n",
    "print(f\"Number of total annotated users: {len(data.users.unique())}\")"
   ]
  }
 ],
 "metadata": {
  "kernelspec": {
   "display_name": "Python 3",
   "language": "python",
   "name": "python3"
  },
  "language_info": {
   "codemirror_mode": {
    "name": "ipython",
    "version": 3
   },
   "file_extension": ".py",
   "mimetype": "text/x-python",
   "name": "python",
   "nbconvert_exporter": "python",
   "pygments_lexer": "ipython3",
   "version": "3.9.7"
  }
 },
 "nbformat": 4,
 "nbformat_minor": 5
}
